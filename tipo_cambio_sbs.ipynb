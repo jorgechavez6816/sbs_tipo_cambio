{
 "cells": [
  {
   "cell_type": "code",
   "execution_count": null,
   "metadata": {},
   "outputs": [],
   "source": [
    "# Importación de librerias\n",
    "from bs4 import BeautifulSoup\n",
    "import pandas as pd\n",
    "import requests\n",
    "\n",
    "url = 'https://www.sbs.gob.pe/app/pp/SISTIP_PORTAL/Paginas/Publicacion/TipoCambioPromedio.aspx'\n",
    "page = requests.get(url)\n",
    "soup = BeautifulSoup(page.content, 'html.parser')\n",
    "\n",
    "#Obtención de equipos\n",
    "eq = soup.find_all('td', class_='APLI_fila3')\n",
    "equipos = list()\n",
    "count = 0\n",
    "for i in eq:\n",
    "    if count <6:\n",
    "        equipos.append(i.text)\n",
    "    else:\n",
    "        break\n",
    "    count +=1\n",
    "\n",
    "#Obtención de puntos acumulados\n",
    "pt = soup.find_all('td', class_='APLI_fila2')\n",
    "puntos = list()\n",
    "count = 0\n",
    "for i in pt:\n",
    "    if count <6:\n",
    "        puntos.append(i.text)\n",
    "    else:\n",
    "        break\n",
    "    count +=1\n",
    "\n",
    "print(equipos)\n",
    "print(puntos)\n",
    "\n",
    "df = pd.DataFrame({'Equipos':equipos, 'Puntos': puntos}, index=list(range(1,7)))\n",
    "df.to_csv('C:\\\\Users\\\\Intel\\\\Documents\\\\Mis documentos IDEA\\\\Samples\\\\Archivos fuente.ILB\\\\Tipo_cambio.csv', index= False)\n",
    "\n"
   ]
  }
 ],
 "metadata": {
  "kernelspec": {
   "display_name": "Python 3",
   "language": "python",
   "name": "python3"
  },
  "language_info": {
   "codemirror_mode": {
    "name": "ipython",
    "version": 3
   },
   "file_extension": ".py",
   "mimetype": "text/x-python",
   "name": "python",
   "nbconvert_exporter": "python",
   "pygments_lexer": "ipython3",
   "version": "3.7.6"
  }
 },
 "nbformat": 4,
 "nbformat_minor": 4
}
